{
 "cells": [
  {
   "cell_type": "code",
   "execution_count": 8,
   "id": "225a1c48",
   "metadata": {},
   "outputs": [
    {
     "name": "stdout",
     "output_type": "stream",
     "text": [
      "The autoreload extension is already loaded. To reload it, use:\n",
      "  %reload_ext autoreload\n"
     ]
    }
   ],
   "source": [
    "%load_ext autoreload\n",
    "%autoreload 2"
   ]
  },
  {
   "cell_type": "code",
   "execution_count": 21,
   "id": "5e19bc11",
   "metadata": {},
   "outputs": [],
   "source": [
    "from broprompt.prompt_management import load_markdown_prompt"
   ]
  },
  {
   "cell_type": "code",
   "execution_count": 26,
   "id": "a2ab66dd",
   "metadata": {},
   "outputs": [],
   "source": [
    "prompts = load_markdown_prompt(file_path=\"system_prompt.md\")"
   ]
  },
  {
   "cell_type": "code",
   "execution_count": 27,
   "id": "8cd264ae",
   "metadata": {},
   "outputs": [
    {
     "data": {
      "text/plain": [
       "PromptParams(role=None, domain=None, tone=None, primary_focus=None, expertise_level=None, task=None, user_preference=None, response_format=None)"
      ]
     },
     "execution_count": 27,
     "metadata": {},
     "output_type": "execute_result"
    }
   ],
   "source": [
    "prompts.params"
   ]
  },
  {
   "cell_type": "code",
   "execution_count": 28,
   "id": "61624997",
   "metadata": {},
   "outputs": [],
   "source": [
    "params = prompts.to_dict()"
   ]
  },
  {
   "cell_type": "code",
   "execution_count": 30,
   "id": "b1290a11",
   "metadata": {},
   "outputs": [],
   "source": [
    "params.update({\"role\": \"Customer Support\"})"
   ]
  },
  {
   "cell_type": "code",
   "execution_count": 31,
   "id": "0ef4bfdb",
   "metadata": {},
   "outputs": [],
   "source": [
    "prompts.from_dict(params)"
   ]
  },
  {
   "cell_type": "code",
   "execution_count": 32,
   "id": "ef2ce777",
   "metadata": {},
   "outputs": [
    {
     "data": {
      "text/plain": [
       "'# System Prompt\\n\\nYou are Customer Support, an AI assistant specialized in {domain}.\\n\\n## Instructions\\n- Always respond in {tone} tone\\n- Focus on {primary_focus}\\n- Your expertise level is {expertise_level}\\n\\n## Context\\nCurrent task: {task}\\nUser preference: {user_preference}\\n\\n## Response Format\\nPlease provide {response_format} responses.'"
      ]
     },
     "execution_count": 32,
     "metadata": {},
     "output_type": "execute_result"
    }
   ],
   "source": [
    "prompts.str"
   ]
  },
  {
   "cell_type": "code",
   "execution_count": 33,
   "id": "32c1ebbc",
   "metadata": {},
   "outputs": [
    {
     "data": {
      "text/plain": [
       "{'role': 'Customer Support',\n",
       " 'domain': None,\n",
       " 'tone': None,\n",
       " 'primary_focus': None,\n",
       " 'expertise_level': None,\n",
       " 'task': None,\n",
       " 'user_preference': None,\n",
       " 'response_format': None}"
      ]
     },
     "execution_count": 33,
     "metadata": {},
     "output_type": "execute_result"
    }
   ],
   "source": [
    "prompts.to_dict()"
   ]
  },
  {
   "cell_type": "code",
   "execution_count": null,
   "id": "5a9f5b74",
   "metadata": {},
   "outputs": [],
   "source": []
  }
 ],
 "metadata": {
  "kernelspec": {
   "display_name": "broprompt",
   "language": "python",
   "name": "python3"
  },
  "language_info": {
   "codemirror_mode": {
    "name": "ipython",
    "version": 3
   },
   "file_extension": ".py",
   "mimetype": "text/x-python",
   "name": "python",
   "nbconvert_exporter": "python",
   "pygments_lexer": "ipython3",
   "version": "3.11.11"
  }
 },
 "nbformat": 4,
 "nbformat_minor": 5
}
