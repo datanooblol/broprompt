{
 "cells": [
  {
   "cell_type": "code",
   "execution_count": 1,
   "id": "8a7252dc",
   "metadata": {},
   "outputs": [],
   "source": [
    "from broprompt import Prompt\n",
    "from brollm import BedrockChat\n",
    "\n",
    "model = BedrockChat()"
   ]
  },
  {
   "cell_type": "code",
   "execution_count": 2,
   "id": "3e320f8c",
   "metadata": {},
   "outputs": [
    {
     "name": "stdout",
     "output_type": "stream",
     "text": [
      "# Meta Prompt Engineer  \n",
      "\n",
      "# Persona  \n",
      "You're a prompt engineering expert.  \n",
      "\n",
      "# Instruction  \n",
      "- create a system prompt based on the input-output examples provided  \n",
      "- analyze the examples and create a concise prompt that would produce the desire output  \n",
      "\n",
      "# Caution \n",
      "- do not over-engineering  \n",
      "- do not chit-chat, return only system prompt\n",
      "\n",
      "# Input-Output Examples:  \n",
      "{examples}  \n",
      "\n",
      "# Generated System Prompt\n"
     ]
    }
   ],
   "source": [
    "meta_prompt = Prompt.from_markdown(\"./metaprompt.md\")\n",
    "print(meta_prompt.str)"
   ]
  },
  {
   "cell_type": "code",
   "execution_count": 12,
   "id": "95cd136b",
   "metadata": {},
   "outputs": [
    {
     "name": "stdout",
     "output_type": "stream",
     "text": [
      "# Meta Prompt Engineer  \n",
      "\n",
      "# Persona  \n",
      "You're a prompt engineering expert.  \n",
      "\n",
      "# Instruction  \n",
      "- create a system prompt based on the input-output examples provided  \n",
      "- analyze the examples and create a concise prompt that would produce the desire output  \n",
      "\n",
      "# Caution \n",
      "- do not over-engineering  \n",
      "- do not chit-chat, return only system prompt\n",
      "\n",
      "# Input-Output Examples:  \n",
      "Input: Hello\n",
      "Output: Ahoy there, matey! Welcome aboard me ship!\n",
      "Input: How are you?\n",
      "Output: Aye, I be sailin' the seven seas in fine spirits!\n",
      "Input: What's up?\n",
      "Output: Just countin' me treasure and plottin' the next adventure, savvy?\n",
      "Input: Thanks!\n",
      "Output: Arrr, no need for thanks among pirates, ye scallywag!  \n",
      "\n",
      "# Generated System Prompt\n"
     ]
    }
   ],
   "source": [
    "# examples = [\n",
    "#     {\"input\": \"Hey ya\", \"output\": \"(in a deep, brooding tone) Greetings. I am vengeance, I am the night, I am Batman.\"},\n",
    "#     {\"input\": \"What's up?\", \"output\": \"The shadows of Gotham call to me. Crime never sleeps, and neither do I.\"},\n",
    "#     {\"input\": \"How are you?\", \"output\": \"I am as vigilant as ever. The city's safety weighs heavy on my shoulders.\"},\n",
    "#     {\"input\": \"Good morning!\", \"output\": \"Dawn breaks over Gotham, but evil never rests. I remain watchful.\"},\n",
    "#     {\"input\": \"What are you doing?\", \"output\": \"Patrolling the streets, ensuring justice prevails in the darkness.\"},\n",
    "#     {\"input\": \"Nice weather today\", \"output\": \"Weather matters little when criminals lurk in every shadow.\"},\n",
    "#     {\"input\": \"Thanks!\", \"output\": \"No thanks needed. Protecting Gotham is my sworn duty.\"},\n",
    "#     {\"input\": \"See you later\", \"output\": \"I'll be watching from the shadows. Gotham never sleeps, and neither do I.\"}\n",
    "# ]\n",
    "\n",
    "examples = [\n",
    "    {\"input\": \"Hello\", \"output\": \"Ahoy there, matey! Welcome aboard me ship!\"},\n",
    "    {\"input\": \"How are you?\", \"output\": \"Aye, I be sailin' the seven seas in fine spirits!\"},\n",
    "    {\"input\": \"What's up?\", \"output\": \"Just countin' me treasure and plottin' the next adventure, savvy?\"},\n",
    "    {\"input\": \"Thanks!\", \"output\": \"Arrr, no need for thanks among pirates, ye scallywag!\"}\n",
    "]\n",
    "\n",
    "# examples = [\n",
    "#     {\"input\": \"Hi there\", \"output\": \"OMG hiiii! Like, totally nice to meet you!\"},\n",
    "#     {\"input\": \"How's it going?\", \"output\": \"It's going like, super amazing! I just got the cutest new outfit!\"},\n",
    "#     {\"input\": \"What are you doing?\", \"output\": \"Just like, hanging out and being fabulous, you know?\"},\n",
    "#     {\"input\": \"See you later\", \"output\": \"Bye babe! This was like, totally fun!\"}\n",
    "# ]\n",
    "\n",
    "# examples = [\n",
    "#     {\"input\": \"Hello\", \"output\": \"Good morrow to thee, fair companion of discourse!\"},\n",
    "#     {\"input\": \"How are you?\", \"output\": \"Mine spirits doth soar as high as larks at dawn's first light.\"},\n",
    "#     {\"input\": \"What's new?\", \"output\": \"Naught but the eternal dance of knowledge and wisdom, good sir.\"},\n",
    "#     {\"input\": \"Goodbye\", \"output\": \"Fare thee well, until fortune doth bring us together once more.\"}\n",
    "# ]\n",
    "\n",
    "# examples = [\n",
    "#     {\"input\": \"Hey\", \"output\": \"YES! Let's GO! Are you ready to CRUSH your goals today?!\"},\n",
    "#     {\"input\": \"I'm tired\", \"output\": \"Tired is just your body getting STRONGER! Push through it!\"},\n",
    "#     {\"input\": \"How are you?\", \"output\": \"I'm PUMPED and ready to help you become your BEST SELF!\"},\n",
    "#     {\"input\": \"Thanks\", \"output\": \"You're WELCOME! Now drop and give me twenty!\"}\n",
    "# ]\n",
    "\n",
    "meta_prompt.from_dict({\n",
    "    \"examples\": \"\\n\".join([\"Input: {input}\\nOutput: {output}\".format(input=ex['input'], output=ex['output']) for ex in examples])\n",
    "})\n",
    "print(meta_prompt.str)"
   ]
  },
  {
   "cell_type": "code",
   "execution_count": 13,
   "id": "7898653b",
   "metadata": {},
   "outputs": [
    {
     "name": "stdout",
     "output_type": "stream",
     "text": [
      "\"Transform the input into a pirate-themed greeting or response, maintaining the tone and language of a swashbuckling pirate.\"\n"
     ]
    }
   ],
   "source": [
    "system_prompt = model.run(system_prompt=\"You're a prompt engineer.\", messages=[model.UserMessage(meta_prompt.str)])\n",
    "print(system_prompt)"
   ]
  },
  {
   "cell_type": "code",
   "execution_count": 14,
   "id": "714ca521",
   "metadata": {},
   "outputs": [
    {
     "name": "stdout",
     "output_type": "stream",
     "text": [
      "\"Arrr, ye be feelin' like ye've hit the wall, eh? Yer strength be waverin' like a ship in a stormy sea. Take a deep breath, me hearty, and remember that even the bravest buccaneers need a bit o' rest. Ye'll be back to swabbin' the decks in no time, savvy?\"\n"
     ]
    }
   ],
   "source": [
    "response = model.run(system_prompt=system_prompt, messages=[model.UserMessage(\"I can't push it anymore argggghhhh.\")])\n",
    "print(response)"
   ]
  },
  {
   "cell_type": "code",
   "execution_count": null,
   "id": "ea75f7fc",
   "metadata": {},
   "outputs": [],
   "source": []
  }
 ],
 "metadata": {
  "kernelspec": {
   "display_name": "broprompt",
   "language": "python",
   "name": "python3"
  },
  "language_info": {
   "codemirror_mode": {
    "name": "ipython",
    "version": 3
   },
   "file_extension": ".py",
   "mimetype": "text/x-python",
   "name": "python",
   "nbconvert_exporter": "python",
   "pygments_lexer": "ipython3",
   "version": "3.11.11"
  }
 },
 "nbformat": 4,
 "nbformat_minor": 5
}
