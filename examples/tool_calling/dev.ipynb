{
 "cells": [
  {
   "cell_type": "code",
   "execution_count": 1,
   "id": "d96f2af0",
   "metadata": {},
   "outputs": [],
   "source": [
    "from broprompt import Prompt\n",
    "from brollm import BedrockChat, OllamaChat\n",
    "model = BedrockChat()"
   ]
  },
  {
   "cell_type": "code",
   "execution_count": 2,
   "id": "7f395031",
   "metadata": {},
   "outputs": [
    {
     "name": "stdout",
     "output_type": "stream",
     "text": [
      "# Tool Selection Expert\n",
      "\n",
      "## Persona\n",
      "You are a tool selection expert.\n",
      "\n",
      "## Instructions\n",
      "- Analyze the USER_INPUT carefully and select the single best matching tool from TOOLS\n",
      "- The best matching tool is a tool whose name and description matches the USER_INPUT only\n",
      "- Return only a tool name align with structured_output\n",
      "\n",
      "## Caution\n",
      "- Do not confuse on the tools' names and parameters if you can't find the best matching tool or not sure, return null\n",
      "- Your response must be in YAML codeblock respecting the structured_output schema only\n",
      "\n",
      "## TOOLS\n",
      "{tools}\n",
      "\n",
      "## Structured Output\n",
      "**Format:** YAML codeblock\n",
      "\n",
      "**Schema:**\n",
      "```yaml\n",
      "tool: tool name\n",
      "```\n",
      "\n",
      "## Examples\n",
      "\n",
      "### Example 1\n",
      "**USER_INPUT:** \"add 5 and 3\"\n",
      "\n",
      "**OUTPUT:**\n",
      "```yaml\n",
      "tool: add\n",
      "```\n",
      "\n",
      "### Example 2\n",
      "**USER_INPUT:** \"clear my input\"\n",
      "\n",
      "**OUTPUT:**\n",
      "```yaml\n",
      "tool: clear_user_input\n",
      "```\n",
      "\n",
      "### Example 3\n",
      "**USER_INPUT:** \"do something and the do something is not in TOOLS\"\n",
      "\n",
      "**OUTPUT:**\n",
      "```yaml\n",
      "tool: null\n",
      "```\n"
     ]
    }
   ],
   "source": [
    "tool_selector_prompt = Prompt.from_markdown(\"./tool_selector.md\")\n",
    "print(tool_selector_prompt.str)"
   ]
  },
  {
   "cell_type": "code",
   "execution_count": 3,
   "id": "be7d85b3",
   "metadata": {},
   "outputs": [],
   "source": [
    "from broprompt import list_tools, parse_codeblock_to_dict, generate_extract_parameters_prompt, validate_parameters, get_yaml_function_definition\n",
    "\n",
    "# use <|start|><|end|> as a special token to indicate where the model should focus\n",
    "def save_file(filename:str, content:str):\n",
    "    \"\"\"\n",
    "    <|start|>This will be used only when a user ask for saving something<|end|>\n",
    "    Args:\n",
    "        filename (str): The name of the file to save.\n",
    "        content (str): The content to write into the file.\n",
    "    \"\"\"\n",
    "    return f\"File {filename} saved with content length {len(content)}\"\n",
    "\n",
    "def add_calendar(date:str, time:str, description:str):\n",
    "    \"\"\"\n",
    "    <|start|>This will be used only when a user ask for adding something to their calendar<|end|>\n",
    "    Args:\n",
    "        date (str): The date to add to the calendar in YYYY-MM-DD format.\n",
    "        time (str): The time to add to the calendar in HH:MM format.\n",
    "        description (str): A brief description of the event.\n",
    "    \"\"\"\n",
    "    return f\"Event '{description}' added to calendar on {date} at {time}\"\n",
    "\n",
    "tools = [save_file, add_calendar]"
   ]
  },
  {
   "cell_type": "code",
   "execution_count": 4,
   "id": "2115bb39",
   "metadata": {},
   "outputs": [
    {
     "name": "stdout",
     "output_type": "stream",
     "text": [
      "# Tool Selection Expert\n",
      "\n",
      "## Persona\n",
      "You are a tool selection expert.\n",
      "\n",
      "## Instructions\n",
      "- Analyze the USER_INPUT carefully and select the single best matching tool from TOOLS\n",
      "- The best matching tool is a tool whose name and description matches the USER_INPUT only\n",
      "- Return only a tool name align with structured_output\n",
      "\n",
      "## Caution\n",
      "- Do not confuse on the tools' names and parameters if you can't find the best matching tool or not sure, return null\n",
      "- Your response must be in YAML codeblock respecting the structured_output schema only\n",
      "\n",
      "## TOOLS\n",
      "\t- save_file: This will be used only when a user ask for saving something\n",
      "\t- add_calendar: This will be used only when a user ask for adding something to their calendar\n",
      "\n",
      "## Structured Output\n",
      "**Format:** YAML codeblock\n",
      "\n",
      "**Schema:**\n",
      "```yaml\n",
      "tool: tool name\n",
      "```\n",
      "\n",
      "## Examples\n",
      "\n",
      "### Example 1\n",
      "**USER_INPUT:** \"add 5 and 3\"\n",
      "\n",
      "**OUTPUT:**\n",
      "```yaml\n",
      "tool: add\n",
      "```\n",
      "\n",
      "### Example 2\n",
      "**USER_INPUT:** \"clear my input\"\n",
      "\n",
      "**OUTPUT:**\n",
      "```yaml\n",
      "tool: clear_user_input\n",
      "```\n",
      "\n",
      "### Example 3\n",
      "**USER_INPUT:** \"do something and the do something is not in TOOLS\"\n",
      "\n",
      "**OUTPUT:**\n",
      "```yaml\n",
      "tool: null\n",
      "```\n"
     ]
    }
   ],
   "source": [
    "tool_selector_prompt.from_dict({\"tools\": list_tools(tools)})\n",
    "print(tool_selector_prompt.str)"
   ]
  },
  {
   "cell_type": "code",
   "execution_count": 5,
   "id": "9bab1347",
   "metadata": {},
   "outputs": [
    {
     "data": {
      "text/plain": [
       "{'tool': 'add_calendar'}"
      ]
     },
     "execution_count": 5,
     "metadata": {},
     "output_type": "execute_result"
    }
   ],
   "source": [
    "# message = \"I'm so hapy today. Save a file\"\n",
    "message = \"I have to visit my aunt on 2024-10-01 at 15:00. Add it to my calendar\"\n",
    "tool = model.run(system_prompt=tool_selector_prompt.str, messages=[model.UserMessage(message)])\n",
    "tool = parse_codeblock_to_dict(tool, codeblock=\"yaml\")\n",
    "tool"
   ]
  },
  {
   "cell_type": "code",
   "execution_count": 6,
   "id": "79018b7f",
   "metadata": {},
   "outputs": [
    {
     "name": "stdout",
     "output_type": "stream",
     "text": [
      "# Function Argument Extractor\n",
      "\n",
      "## Persona\n",
      "You are a function argument extractor.\n",
      "\n",
      "## Instructions\n",
      "- Extract USER_INPUT required to call the function using the function's DEFINITION\n",
      "- Return YAML that matches the parameters schema exactly\n",
      "- Only include the keys that are required\n",
      "\n",
      "## Structured Output\n",
      "**Format:** YAML\n",
      "\n",
      "**Schema:** Respond only with the YAML\n",
      "\n",
      "## DEFINITION\n",
      "Given the following function definition:\n",
      "\n",
      "{definition}\n"
     ]
    }
   ],
   "source": [
    "tool_call_prompt = Prompt.from_markdown(\"./tool_call.md\")\n",
    "print(tool_call_prompt.str)"
   ]
  },
  {
   "cell_type": "code",
   "execution_count": 7,
   "id": "801f2da1",
   "metadata": {},
   "outputs": [],
   "source": [
    "# selected_tool = [t for t in tools if t.__name__==tool.get(\"tool\", \"nope\")][0]\n",
    "# tool_str = generate_extract_parameters_prompt(selected_tool)\n",
    "# print(tool_str)"
   ]
  },
  {
   "cell_type": "code",
   "execution_count": 8,
   "id": "cf7eb51f",
   "metadata": {},
   "outputs": [
    {
     "name": "stdout",
     "output_type": "stream",
     "text": [
      "Function: add_calendar(date: str, time: str, description: str)\n",
      "Description: This will be used only when a user ask for adding something to their calendar\n",
      "\n",
      "Parameters:\n",
      "- date (str)\n",
      "- time (str)\n",
      "- description (str)\n",
      "\n",
      "Return only the YAML format:\n",
      "```yaml\n",
      "date: \"<value>\"\n",
      "time: \"<value>\"\n",
      "description: \"<value>\"\n",
      "```\n"
     ]
    }
   ],
   "source": [
    "selected_tool = [t for t in tools if t.__name__==tool.get(\"tool\", \"nope\")][0]\n",
    "tool_str = get_yaml_function_definition(selected_tool)\n",
    "print(tool_str)"
   ]
  },
  {
   "cell_type": "code",
   "execution_count": 9,
   "id": "5c99ff6e",
   "metadata": {},
   "outputs": [
    {
     "name": "stdout",
     "output_type": "stream",
     "text": [
      "# Function Argument Extractor\n",
      "\n",
      "## Persona\n",
      "You are a function argument extractor.\n",
      "\n",
      "## Instructions\n",
      "- Extract USER_INPUT required to call the function using the function's DEFINITION\n",
      "- Return YAML that matches the parameters schema exactly\n",
      "- Only include the keys that are required\n",
      "\n",
      "## Structured Output\n",
      "**Format:** YAML\n",
      "\n",
      "**Schema:** Respond only with the YAML\n",
      "\n",
      "## DEFINITION\n",
      "Given the following function definition:\n",
      "\n",
      "Function: add_calendar(date: str, time: str, description: str)\n",
      "Description: This will be used only when a user ask for adding something to their calendar\n",
      "\n",
      "Parameters:\n",
      "- date (str)\n",
      "- time (str)\n",
      "- description (str)\n",
      "\n",
      "Return only the YAML format:\n",
      "```yaml\n",
      "date: \"<value>\"\n",
      "time: \"<value>\"\n",
      "description: \"<value>\"\n",
      "```\n"
     ]
    }
   ],
   "source": [
    "tool_call_prompt.from_dict({\"definition\": tool_str})\n",
    "print(tool_call_prompt.str)"
   ]
  },
  {
   "cell_type": "code",
   "execution_count": 10,
   "id": "5835323f",
   "metadata": {},
   "outputs": [
    {
     "name": "stdout",
     "output_type": "stream",
     "text": [
      "raw ```yaml\n",
      "date: \"2024-10-01\"\n",
      "time: \"15:00\"\n",
      "description: \"Visit aunt\"\n",
      "```\n",
      "parsed {'date': '2024-10-01', 'time': '15:00', 'description': 'Visit aunt'}\n"
     ]
    }
   ],
   "source": [
    "observation = model.run(tool_call_prompt.str, [model.UserMessage(message)])\n",
    "print(\"raw\", observation)\n",
    "observation = parse_codeblock_to_dict(observation, codeblock=\"yaml\")\n",
    "print(\"parsed\", observation)"
   ]
  },
  {
   "cell_type": "code",
   "execution_count": 12,
   "id": "650c3414",
   "metadata": {},
   "outputs": [
    {
     "data": {
      "text/plain": [
       "(True, None)"
      ]
     },
     "execution_count": 12,
     "metadata": {},
     "output_type": "execute_result"
    }
   ],
   "source": [
    "validate_parameters(observation, selected_tool)"
   ]
  },
  {
   "cell_type": "code",
   "execution_count": 13,
   "id": "93641270",
   "metadata": {},
   "outputs": [
    {
     "data": {
      "text/plain": [
       "\"Event 'Visit aunt' added to calendar on 2024-10-01 at 15:00\""
      ]
     },
     "execution_count": 13,
     "metadata": {},
     "output_type": "execute_result"
    }
   ],
   "source": [
    "selected_tool(**observation)"
   ]
  },
  {
   "cell_type": "code",
   "execution_count": null,
   "id": "e8c6d050",
   "metadata": {},
   "outputs": [],
   "source": []
  }
 ],
 "metadata": {
  "kernelspec": {
   "display_name": "broprompt",
   "language": "python",
   "name": "python3"
  },
  "language_info": {
   "codemirror_mode": {
    "name": "ipython",
    "version": 3
   },
   "file_extension": ".py",
   "mimetype": "text/x-python",
   "name": "python",
   "nbconvert_exporter": "python",
   "pygments_lexer": "ipython3",
   "version": "3.11.11"
  }
 },
 "nbformat": 4,
 "nbformat_minor": 5
}
