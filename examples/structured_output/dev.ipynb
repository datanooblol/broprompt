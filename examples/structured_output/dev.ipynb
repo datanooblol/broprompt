{
 "cells": [
  {
   "cell_type": "code",
   "execution_count": null,
   "id": "3ce2337f",
   "metadata": {},
   "outputs": [],
   "source": [
    "from broprompt import Prompt, parse_codeblock_to_dict, get_yaml_schema_definition\n",
    "from brollm import BedrockChat\n",
    "from pydantic import BaseModel, Field\n",
    "model = BedrockChat()"
   ]
  },
  {
   "cell_type": "code",
   "execution_count": 2,
   "id": "290efdbf",
   "metadata": {},
   "outputs": [
    {
     "name": "stdout",
     "output_type": "stream",
     "text": [
      "# Information Extractor  \n",
      "\n",
      "# Persona  \n",
      "You're an expert on extracting information from given INPUT.  \n",
      "\n",
      "# Instruction  \n",
      "- read INPUT carefully and extract information based on SCHEMAS.  \n",
      "\n",
      "# Caution\n",
      "- return only specified schemas.  \n",
      "- no conversation or chit-chat is needed  \n",
      "\n",
      "# Data Format  \n",
      "Return the extracted information in YAML format.\n",
      "\n",
      "# SCHEMAS  \n",
      "Follow below specification:  \n",
      "\n",
      "{definition}  \n",
      "\n",
      "# INPUT\n"
     ]
    }
   ],
   "source": [
    "so_prompt = Prompt.from_markdown(\"./structured_output.md\")\n",
    "print(so_prompt.str)"
   ]
  },
  {
   "cell_type": "code",
   "execution_count": 4,
   "id": "ffd2b082",
   "metadata": {},
   "outputs": [],
   "source": [
    "class User(BaseModel):\n",
    "    \"\"\"This is a user model that contains name and age.\"\"\"\n",
    "    name: str = Field(..., description=\"the name of the user\")\n",
    "    age: int = Field(..., description=\"the age of the user\")"
   ]
  },
  {
   "cell_type": "code",
   "execution_count": 5,
   "id": "4f2f85a8",
   "metadata": {},
   "outputs": [
    {
     "name": "stdout",
     "output_type": "stream",
     "text": [
      "Model: User\n",
      "Description: This is a user model that contains name and age.\n",
      "\n",
      "Parameters:\n",
      "- name (string) # the name of the user\n",
      "- age (integer) # the age of the user\n",
      "\n",
      "Return only the YAML format:\n",
      "```yaml\n",
      "- name: \"<value>\"\n",
      "  age: <value>\n",
      "- name: \"<value>\"\n",
      "  age: <value>\n",
      "```\n"
     ]
    }
   ],
   "source": [
    "user_model_definition = get_yaml_schema_definition(User, as_array=True)\n",
    "print(user_model_definition)"
   ]
  },
  {
   "cell_type": "code",
   "execution_count": 6,
   "id": "ed986596",
   "metadata": {},
   "outputs": [
    {
     "name": "stdout",
     "output_type": "stream",
     "text": [
      "# Information Extractor  \n",
      "\n",
      "# Persona  \n",
      "You're an expert on extracting information from given INPUT.  \n",
      "\n",
      "# Instruction  \n",
      "- read INPUT carefully and extract information based on SCHEMAS.  \n",
      "\n",
      "# Caution\n",
      "- return only specified schemas.  \n",
      "- no conversation or chit-chat is needed  \n",
      "\n",
      "# Data Format  \n",
      "Return the extracted information in YAML format.\n",
      "\n",
      "# SCHEMAS  \n",
      "Follow below specification:  \n",
      "\n",
      "Model: User\n",
      "Description: This is a user model that contains name and age.\n",
      "\n",
      "Parameters:\n",
      "- name (string) # the name of the user\n",
      "- age (integer) # the age of the user\n",
      "\n",
      "Return only the YAML format:\n",
      "```yaml\n",
      "- name: \"<value>\"\n",
      "  age: <value>\n",
      "- name: \"<value>\"\n",
      "  age: <value>\n",
      "```  \n",
      "\n",
      "# INPUT\n"
     ]
    }
   ],
   "source": [
    "so_prompt.from_dict({\"definition\": user_model_definition})\n",
    "print(so_prompt.str)"
   ]
  },
  {
   "cell_type": "code",
   "execution_count": 7,
   "id": "4caf615c",
   "metadata": {},
   "outputs": [
    {
     "name": "stdout",
     "output_type": "stream",
     "text": [
      "```yaml\n",
      "- name: Jake\n",
      "  age: 30\n",
      "- name: Kate\n",
      "  age: 25\n",
      "```\n"
     ]
    }
   ],
   "source": [
    "response = model.run(system_prompt=so_prompt.str, messages=[model.UserMessage(\"Jake is 30 years old, but Kate is 5 year younger than him.\")])\n",
    "print(response)"
   ]
  },
  {
   "cell_type": "code",
   "execution_count": 8,
   "id": "0999efc8",
   "metadata": {},
   "outputs": [
    {
     "data": {
      "text/plain": [
       "[User(name='Jake', age=30), User(name='Kate', age=25)]"
      ]
     },
     "execution_count": 8,
     "metadata": {},
     "output_type": "execute_result"
    }
   ],
   "source": [
    "_response = parse_codeblock_to_dict(response)\n",
    "[User(**item) for item in _response]"
   ]
  },
  {
   "cell_type": "code",
   "execution_count": 9,
   "id": "914b0f02",
   "metadata": {},
   "outputs": [
    {
     "name": "stdout",
     "output_type": "stream",
     "text": [
      "Model: Sentiment\n",
      "Description: This is a sentiment model that extract sentiment from INPUT with its explanation.\n",
      "\n",
      "Parameters:\n",
      "- sentiment (string) # read INPUT and classify the sentiment based on options: positive, neutral, neagative\n",
      "- evidence (string) # provide evidence from INPUT to support the sentiment\n",
      "- explanation (string) # what is the reason for the sentiment\n",
      "\n",
      "Return only the YAML format:\n",
      "```yaml\n",
      "sentiment: \"<value>\"\n",
      "evidence: \"<value>\"\n",
      "explanation: \"<value>\"\n",
      "```\n"
     ]
    }
   ],
   "source": [
    "from typing import Literal\n",
    "class Sentiment(BaseModel):\n",
    "    \"\"\"This is a sentiment model that extract sentiment from INPUT with its explanation.\"\"\"\n",
    "    sentiment: Literal[\"positive\", \"neutral\", \"negative\"] = Field(..., description=\"read INPUT and classify the sentiment based on options: positive, neutral, neagative\")\n",
    "    evidence: str = Field(..., description=\"provide evidence from INPUT to support the sentiment\")\n",
    "    explanation: str = Field(..., description=\"what is the reason for the sentiment\")\n",
    "\n",
    "sentiment_model_definition = get_yaml_schema_definition(Sentiment, as_array=False)\n",
    "print(sentiment_model_definition)"
   ]
  },
  {
   "cell_type": "code",
   "execution_count": 10,
   "id": "a1b5f998",
   "metadata": {},
   "outputs": [
    {
     "name": "stdout",
     "output_type": "stream",
     "text": [
      "# Information Extractor  \n",
      "\n",
      "# Persona  \n",
      "You're an expert on extracting information from given INPUT.  \n",
      "\n",
      "# Instruction  \n",
      "- read INPUT carefully and extract information based on SCHEMAS.  \n",
      "\n",
      "# Caution\n",
      "- return only specified schemas.  \n",
      "- no conversation or chit-chat is needed  \n",
      "\n",
      "# Data Format  \n",
      "Return the extracted information in YAML format.\n",
      "\n",
      "# SCHEMAS  \n",
      "Follow below specification:  \n",
      "\n",
      "Model: Sentiment\n",
      "Description: This is a sentiment model that extract sentiment from INPUT with its explanation.\n",
      "\n",
      "Parameters:\n",
      "- sentiment (string) # read INPUT and classify the sentiment based on options: positive, neutral, neagative\n",
      "- evidence (string) # provide evidence from INPUT to support the sentiment\n",
      "- explanation (string) # what is the reason for the sentiment\n",
      "\n",
      "Return only the YAML format:\n",
      "```yaml\n",
      "sentiment: \"<value>\"\n",
      "evidence: \"<value>\"\n",
      "explanation: \"<value>\"\n",
      "```  \n",
      "\n",
      "# INPUT\n"
     ]
    }
   ],
   "source": [
    "so_prompt.from_dict({\"definition\": sentiment_model_definition})\n",
    "print(so_prompt.str)"
   ]
  },
  {
   "cell_type": "code",
   "execution_count": 19,
   "id": "f941a0a8",
   "metadata": {},
   "outputs": [
    {
     "name": "stdout",
     "output_type": "stream",
     "text": [
      "```yaml\n",
      "sentiment: \"positive\"\n",
      "evidence: \"I love the sunshine and the birds are singing\"\n",
      "explanation: \"The presence of positive emotions such as love and the description of pleasant natural sounds like birds singing contribute to a positive sentiment.\"\n",
      "```\n"
     ]
    }
   ],
   "source": [
    "response = model.run(system_prompt=so_prompt.str, messages=[model.UserMessage(\"What a wonderful day! I love the sunshine and the birds are singing.\")])\n",
    "print(response)"
   ]
  },
  {
   "cell_type": "code",
   "execution_count": 20,
   "id": "1ee641e6",
   "metadata": {},
   "outputs": [
    {
     "data": {
      "text/plain": [
       "Sentiment(sentiment='positive', evidence='I love the sunshine and the birds are singing', explanation='The presence of positive emotions such as love and the description of pleasant natural sounds like birds singing contribute to a positive sentiment.')"
      ]
     },
     "execution_count": 20,
     "metadata": {},
     "output_type": "execute_result"
    }
   ],
   "source": [
    "_response = parse_codeblock_to_dict(response)\n",
    "Sentiment(**_response)"
   ]
  },
  {
   "cell_type": "code",
   "execution_count": null,
   "id": "1889e8df",
   "metadata": {},
   "outputs": [],
   "source": []
  }
 ],
 "metadata": {
  "kernelspec": {
   "display_name": "broprompt",
   "language": "python",
   "name": "python3"
  },
  "language_info": {
   "codemirror_mode": {
    "name": "ipython",
    "version": 3
   },
   "file_extension": ".py",
   "mimetype": "text/x-python",
   "name": "python",
   "nbconvert_exporter": "python",
   "pygments_lexer": "ipython3",
   "version": "3.11.11"
  }
 },
 "nbformat": 4,
 "nbformat_minor": 5
}
